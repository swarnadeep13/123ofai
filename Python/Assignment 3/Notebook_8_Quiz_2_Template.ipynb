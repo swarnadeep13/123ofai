{
  "cells": [
    {
      "cell_type": "code",
      "execution_count": 5,
      "metadata": {
        "id": "XKYdbT8Mwe7e"
      },
      "outputs": [
        {
          "data": {
            "text/plain": [
              "'\\nWrite 3 functions, one for each operation:\\nInput: List of strings\\nAssume: The search elements exist atleast once in the list\\n'"
            ]
          },
          "execution_count": 5,
          "metadata": {},
          "output_type": "execute_result"
        }
      ],
      "source": [
        "\"\"\"\n",
        "Write 3 functions, one for each operation:\n",
        "Input: List of strings\n",
        "Assume: The search elements exist atleast once in the list\n",
        "\"\"\""
      ]
    },
    {
      "cell_type": "code",
      "execution_count": 6,
      "metadata": {
        "id": "UQoc37eixzUs"
      },
      "outputs": [
        {
          "name": "stdout",
          "output_type": "stream",
          "text": [
            "Not Found.Index is -1\n",
            "4\n"
          ]
        }
      ],
      "source": [
        "\"\"\"\n",
        "Given the input list and element to be found, return the index of the first occurance\n",
        "Input List = [\"hey\", \"how\", \"is\", \"hey\", \"you\", \"how\", \"are\", \"you\", \"hey\"]\n",
        "Search Element = \"you\"\n",
        "Output = 4\n",
        "\"\"\"\n",
        "def search(input_list, search_elem):\n",
        "  index = 0  \n",
        "  for item in input_list:\n",
        "    if item == search_elem:\n",
        "      print(index)\n",
        "      return  \n",
        "    index += 1  \n",
        "  print(\"Not Found.Index is -1\")\n",
        "  \n",
        "\n",
        "\n",
        "#Incase the Search strring is not found i will return Not Found.Index is -1\n",
        "\n",
        "my_list = [\"hey\", \"how\", \"is\", \"hey\", \"you\", \"how\", \"are\", \"you\", \"hey\"]\n",
        "search(my_list, \"swarnadeep\")  \n",
        "search(my_list, \"you\")  \n",
        "\n",
        "\n"
      ]
    },
    {
      "cell_type": "code",
      "execution_count": 7,
      "metadata": {
        "id": "QjwLVStYyBHQ"
      },
      "outputs": [
        {
          "name": "stdout",
          "output_type": "stream",
          "text": [
            "3\n",
            "0\n"
          ]
        }
      ],
      "source": [
        "\"\"\"\n",
        "Given the input list, count the number of elements equal to 'search_elem'\n",
        "Input List = [\"hey\", \"how\", \"is\", \"hey\", \"you\", \"how\", \"are\", \"you\", \"hey\"]\n",
        "Search Element = \"hey\"\n",
        "Output = 3\n",
        "\"\"\"\n",
        "def count(input_list, search_elem):\n",
        "  occurence = 0  \n",
        "  for item in input_list:\n",
        "    if item == search_elem:\n",
        "      occurence=occurence+1\n",
        "  print(occurence)\n",
        "\n",
        "\n",
        "#Incase the Search strring is not found i will return 0\n",
        "\n",
        "\n",
        "my_list = [\"hey\", \"how\", \"is\", \"hey\", \"you\", \"how\", \"are\", \"you\", \"hey\"]\n",
        "count(my_list,\"hey\")\n",
        "count(my_list,\"swarnadeep\")\n",
        "\n"
      ]
    },
    {
      "cell_type": "code",
      "execution_count": 8,
      "metadata": {
        "id": "6DanXkDvyTuY"
      },
      "outputs": [
        {
          "name": "stdout",
          "output_type": "stream",
          "text": [
            "{'hey': [0, 3, 8], 'you': [4, 7, 9]}\n"
          ]
        }
      ],
      "source": [
        "\"\"\"\n",
        "Given the input list, and another list of search terms, return a dict with a list of their corresponding indices\n",
        "Input List = [\"hey\", \"how\", \"is\", \"hey\", \"you\", \"how\", \"are\", \"you\", \"hey\"]\n",
        "Search List = [\"hey\", \"you\"]\n",
        "Output Dict = {\n",
        "  \"hey\" : [0, 3, 8],\n",
        "  \"you\" : [4, 7]\n",
        "}\n",
        "\n",
        "Concept: Nested for loops -> One for loop inside another\n",
        "\"\"\"\n",
        "\n",
        "def search_location(input_list, search_terms):\n",
        "    result = {}\n",
        "    for term in search_terms:\n",
        "        result[term] = []\n",
        "        index = 0\n",
        "\n",
        "        for item in input_list:\n",
        "            if item == term:\n",
        "                result[term].append(index)\n",
        "            index += 1\n",
        "\n",
        "    return result\n",
        "\n",
        "\n",
        "\n",
        "my_list = [\"hey\", \"how\", \"is\", \"hey\", \"you\", \"how\", \"are\", \"you\", \"hey\",\"you\"]\n",
        "search_terms = [\"hey\", \"you\"]\n",
        "result = search_location(my_list, search_terms)\n",
        "print(result)\n",
        "\n"
      ]
    }
  ],
  "metadata": {
    "colab": {
      "provenance": []
    },
    "kernelspec": {
      "display_name": "Python 3",
      "name": "python3"
    },
    "language_info": {
      "codemirror_mode": {
        "name": "ipython",
        "version": 3
      },
      "file_extension": ".py",
      "mimetype": "text/x-python",
      "name": "python",
      "nbconvert_exporter": "python",
      "pygments_lexer": "ipython3",
      "version": "3.9.13"
    }
  },
  "nbformat": 4,
  "nbformat_minor": 0
}
