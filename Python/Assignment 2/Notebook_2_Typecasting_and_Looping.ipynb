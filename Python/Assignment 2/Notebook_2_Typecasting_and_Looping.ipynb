{
  "cells": [
    {
      "cell_type": "markdown",
      "metadata": {
        "id": "8X-ydECFCf1J"
      },
      "source": [
        "### Type-casting"
      ]
    },
    {
      "cell_type": "code",
      "execution_count": 7,
      "metadata": {
        "colab": {
          "base_uri": "https://localhost:8080/"
        },
        "id": "9YzeEZ6OUFMg",
        "outputId": "ef3aaac0-bf3d-4049-f0f7-e46b163e7acc"
      },
      "outputs": [
        {
          "data": {
            "text/plain": [
              "str"
            ]
          },
          "execution_count": 7,
          "metadata": {},
          "output_type": "execute_result"
        }
      ],
      "source": [
        "\"\"\"\n",
        "Replacement: Assigning new values to the same variable\n",
        "In all languages,\n",
        "1. New value can be same datatype\n",
        "Eg: a = 3.5\n",
        "a = 7.3\n",
        "\n",
        "Speciality in python -\n",
        "2. New value can also be a different datatype\n",
        "Below example:\n",
        "\n",
        "Metaphorical Example: Put something new in the container\n",
        "\"\"\"\n",
        "\n",
        "a = 3.5\n",
        "a = \"blah\"\n",
        "type(a)"
      ]
    },
    {
      "cell_type": "code",
      "execution_count": 11,
      "metadata": {
        "colab": {
          "base_uri": "https://localhost:8080/"
        },
        "id": "6gPmORCH-pf2",
        "outputId": "3877a98d-789a-4e09-e97c-ca6dd7e20b9a"
      },
      "outputs": [
        {
          "data": {
            "text/plain": [
              "str"
            ]
          },
          "execution_count": 11,
          "metadata": {},
          "output_type": "execute_result"
        }
      ],
      "source": [
        "\"\"\"\n",
        "Typecasting: Changing the data type\n",
        "\n",
        "Metaphorical Example: Initially container had ice. Now it has water.\n",
        "Same contents, but, different form!\n",
        "\"\"\"\n",
        "\n",
        "a = 3 # define 'a' as an int\n",
        "\n",
        "a = str(a) # changed the data type of 'a'\n",
        "type(a)\n"
      ]
    },
    {
      "cell_type": "code",
      "execution_count": 12,
      "metadata": {},
      "outputs": [
        {
          "data": {
            "text/plain": [
              "int"
            ]
          },
          "execution_count": 12,
          "metadata": {},
          "output_type": "execute_result"
        }
      ],
      "source": [
        "\n",
        "a = int(a)\n",
        "type(a)"
      ]
    },
    {
      "cell_type": "code",
      "execution_count": 16,
      "metadata": {
        "id": "i4e1kHUJAdv9"
      },
      "outputs": [
        {
          "data": {
            "text/plain": [
              "5"
            ]
          },
          "execution_count": 16,
          "metadata": {},
          "output_type": "execute_result"
        }
      ],
      "source": [
        "# More examples of typecasting\n",
        "\n",
        "a = 5\n",
        "x = str(a) # \"5\"\n",
        "y = int(a) # 5\n",
        "z = float(a) # 5.0\n",
        "y"
      ]
    },
    {
      "cell_type": "code",
      "execution_count": null,
      "metadata": {
        "id": "Z4ZiLjQp919D"
      },
      "outputs": [],
      "source": []
    },
    {
      "cell_type": "markdown",
      "metadata": {
        "id": "ki01nZoRCd4X"
      },
      "source": [
        "### Looping"
      ]
    },
    {
      "cell_type": "code",
      "execution_count": null,
      "metadata": {
        "id": "6JM3cXKmCfBE"
      },
      "outputs": [],
      "source": [
        "\"\"\"\n",
        "Q1: Print all numbers from 5 to 100\n",
        "\"\"\""
      ]
    },
    {
      "cell_type": "code",
      "execution_count": 17,
      "metadata": {
        "colab": {
          "base_uri": "https://localhost:8080/"
        },
        "id": "bxNlM8pEFXxs",
        "outputId": "0f7ca51a-4c67-46cd-9642-ea96ef88da1a"
      },
      "outputs": [
        {
          "name": "stdout",
          "output_type": "stream",
          "text": [
            "All different types - 5 5 5.0 <class 'int'>\n"
          ]
        }
      ],
      "source": [
        "print('All different types -', x, y, z, type(a))"
      ]
    },
    {
      "cell_type": "code",
      "execution_count": 24,
      "metadata": {
        "colab": {
          "base_uri": "https://localhost:8080/"
        },
        "id": "rHQEJwvQF3T3",
        "outputId": "eff1e720-7e03-4ea1-f41e-ad6138584a34"
      },
      "outputs": [
        {
          "name": "stdout",
          "output_type": "stream",
          "text": [
            "5 6 7 8 9 10 11 12\n"
          ]
        }
      ],
      "source": [
        "print(5, 6, 7, 8, 9, 10, 11, 12)"
      ]
    },
    {
      "cell_type": "code",
      "execution_count": 18,
      "metadata": {
        "colab": {
          "base_uri": "https://localhost:8080/"
        },
        "id": "XbSWu52ZG-UP",
        "outputId": "de05f342-e3a3-4ed5-b307-912fae3a366c"
      },
      "outputs": [
        {
          "name": "stdout",
          "output_type": "stream",
          "text": [
            "range(5, 100)\n"
          ]
        }
      ],
      "source": [
        "print(range(5, 100))"
      ]
    },
    {
      "cell_type": "code",
      "execution_count": 21,
      "metadata": {
        "colab": {
          "base_uri": "https://localhost:8080/"
        },
        "id": "ULABXxkWGRA8",
        "outputId": "eee18773-8e83-477c-bce5-28e95d8e260d"
      },
      "outputs": [
        {
          "name": "stdout",
          "output_type": "stream",
          "text": [
            "5\n",
            "6\n",
            "7\n",
            "8\n",
            "9\n"
          ]
        }
      ],
      "source": [
        "\"\"\"\n",
        "range(5, 100): In each iteration, it'll throw out one value\n",
        "\n",
        "i: variable, take the thrown value, for each iteration\n",
        "\n",
        "First iteration:\n",
        "i = 5; I will execute all the below code, under 'for', assuming i =5\n",
        "\n",
        "Second iteration:\n",
        "i = 6, execute below code\n",
        "\n",
        "When does the loop stop?\n",
        "- When range throws out its last value!\n",
        "\n",
        "\"\"\"\n",
        "\n",
        "for i in range(5, 10):\n",
        "  print(i)"
      ]
    },
    {
      "cell_type": "code",
      "execution_count": 33,
      "metadata": {
        "colab": {
          "base_uri": "https://localhost:8080/"
        },
        "id": "R9-8Yu_XIKIN",
        "outputId": "39dc2866-af21-480e-f53f-4a16d5d577db"
      },
      "outputs": [
        {
          "name": "stdout",
          "output_type": "stream",
          "text": [
            "Enter URLwww.google.com\n",
            "Current count in iteration number  1  is  1\n",
            "Enter URLg\n",
            "Current count in iteration number  2  is  1\n",
            "Enter URLg\n",
            "Current count in iteration number  3  is  1\n",
            "Enter URLwww.google.com\n",
            "Current count in iteration number  4  is  2\n",
            "Enter URLwww.google.com\n",
            "Current count in iteration number  5  is  3\n",
            "Number of visits = 3\n"
          ]
        }
      ],
      "source": [
        "\"\"\"\n",
        "input() - Asks the user for an input\n",
        "\n",
        "range(start, end+1)\n",
        "range(num of times I want the loop to run)\n",
        "\n",
        "Q: Count the number of times, 'google.com' is visited\n",
        "\n",
        "Assumption: User tries 5 URLs\n",
        "\"\"\"\n",
        "\n",
        "count = 0\n",
        "\n",
        "for i in range(5):\n",
        "  # Below code executes for every iteration\n",
        "  url = input('Enter URL')\n",
        "  if(url == 'www.google.com'):\n",
        "    count = count + 1\n",
        "\n",
        "  # printed on every iteration, no matter what\n",
        "  print('Current count in iteration number ', i+1, ' is ', count)\n",
        "\n",
        "print('Number of visits =', count)\n"
      ]
    },
    {
      "cell_type": "code",
      "execution_count": 34,
      "metadata": {
        "colab": {
          "base_uri": "https://localhost:8080/"
        },
        "id": "532qzTsRI1Jg",
        "outputId": "aeeebf1f-df1a-462f-ae11-622179a45364"
      },
      "outputs": [
        {
          "name": "stdout",
          "output_type": "stream",
          "text": [
            "Enter URLwww.google.com\n",
            "Current count in iteration number  1  is  1\n",
            "Enter URLg\n",
            "Enter URLg\n",
            "Enter URLwww.google.com\n",
            "Current count in iteration number  4  is  2\n",
            "Enter URLwww.google.com\n",
            "Current count in iteration number  5  is  3\n",
            "Number of visits = 3\n"
          ]
        }
      ],
      "source": [
        "# Demostrating the effect of indentation under 'if' and 'for' statements\n",
        "\n",
        "count = 0\n",
        "\n",
        "for i in range(5):\n",
        "  # Below code executes for every iteration\n",
        "  url = input('Enter URL')\n",
        "  if(url == 'www.google.com'):\n",
        "    count = count + 1\n",
        "\n",
        "    # print will execute only if google is visited\n",
        "    print('Current count in iteration number ', i+1, ' is ', count)\n",
        "\n",
        "print('Number of visits =', count)\n"
      ]
    },
    {
      "cell_type": "code",
      "execution_count": 23,
      "metadata": {
        "id": "rOCdDwsiMrYW"
      },
      "outputs": [
        {
          "data": {
            "text/plain": [
              "5"
            ]
          },
          "execution_count": 23,
          "metadata": {},
          "output_type": "execute_result"
        }
      ],
      "source": [
        "c='5'\n",
        "b=int(c)\n",
        "b"
      ]
    },
    {
      "cell_type": "code",
      "execution_count": null,
      "metadata": {
        "id": "SQyx-gxeSDN6"
      },
      "outputs": [],
      "source": []
    }
  ],
  "metadata": {
    "colab": {
      "provenance": []
    },
    "kernelspec": {
      "display_name": "Python 3",
      "name": "python3"
    },
    "language_info": {
      "codemirror_mode": {
        "name": "ipython",
        "version": 3
      },
      "file_extension": ".py",
      "mimetype": "text/x-python",
      "name": "python",
      "nbconvert_exporter": "python",
      "pygments_lexer": "ipython3",
      "version": "3.9.13"
    }
  },
  "nbformat": 4,
  "nbformat_minor": 0
}
